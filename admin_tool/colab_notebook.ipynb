{
  "nbformat": 4,
  "nbformat_minor": 0,
  "metadata": {
    "colab": {
      "provenance": [],
      "collapsed_sections": []
    },
    "kernelspec": {
      "name": "python3",
      "display_name": "Python 3"
    },
    "language_info": {
      "name": "python"
    }
  },
  "cells": [
    {
      "cell_type": "markdown",
      "source": [
        "# 📚 SSG Epub Admin Tool - Google Colab\n",
        "\n",
        "Công cụ quản lý sách điện tử cho SSG Epub Library\n",
        "\n",
        "## 🚀 Hướng dẫn sử dụng:\n",
        "1. Chạy từng cell theo thứ tự\n",
        "2. Nhập thông tin khi được yêu cầu\n",
        "3. Sử dụng URL public để truy cập admin tool\n",
        "\n",
        "---"
      ],
      "metadata": {
        "id": "header"
      }
    },
    {
      "cell_type": "markdown",
      "source": [
        "## 📦 Bước 1: Cài đặt packages"
      ],
      "metadata": {
        "id": "step1"
      }
    },
    {
      "cell_type": "code",
      "execution_count": null,
      "metadata": {
        "id": "install_packages"
      },
      "outputs": [],
      "source": [
        "# Cài đặt các package cần thiết\n",
        "!pip install streamlit requests PyYAML pyngrok\n",
        "\n",
        "print(\"✅ Đã cài đặt xong các packages!\")"
      ]
    },
    {
      "cell_type": "markdown",
      "source": [
        "## 📂 Bước 2: Clone repository"
      ],
      "metadata": {
        "id": "step2"
      }
    },
    {
      "cell_type": "code",
      "source": [
        "import os\n",
        "from google.colab import userdata\n",
        "\n",
        "# Lấy URL repository từ Colab Secrets hoặc nhập thủ công\n",
        "try:\n",
        "    REPO_URL = userdata.get('GITHUB_REPO_URL')\n",
        "    print(f\"✅ Lấy được repository URL từ secrets: {REPO_URL}\")\n",
        "except:\n",
        "    REPO_URL = input(\"Nhập URL repository (ví dụ: https://github.com/username/SSGEpub.git): \")\n",
        "\n",
        "if REPO_URL:\n",
        "    # Xóa thư mục cũ nếu có\n",
        "    !rm -rf /content/SSGEpub\n",
        "    \n",
        "    # Clone repository\n",
        "    !git clone {REPO_URL} /content/SSGEpub\n",
        "    \n",
        "    # Chuyển đến thư mục repository\n",
        "    %cd /content/SSGEpub\n",
        "    \n",
        "    print(\"✅ Đã clone repository thành công!\")\n",
        "    print(f\"📂 Repository: {REPO_URL}\")\n",
        "    \n",
        "    # Kiểm tra admin_tool có tồn tại không\n",
        "    if os.path.exists('/content/SSGEpub/admin_tool/main.py'):\n",
        "        print(\"✅ Tìm thấy admin_tool\")\n",
        "    else:\n",
        "        print(\"⚠️ Không tìm thấy admin_tool, sẽ tạo mới\")\n",
        "        # Tạo admin_tool nếu chưa có\n",
        "        !mkdir -p admin_tool/data\n",
        "        print(\"📁 Đã tạo thư mục admin_tool\")\n",
        "else:\n",
        "    print(\"❌ Vui lòng nhập URL repository!\")\n",
        "    print(\"💡 Tip: Thêm GITHUB_REPO_URL vào Colab Secrets để không phải nhập lại\")"
      ],
      "metadata": {
        "id": "clone_repo"
      },
      "execution_count": null,
      "outputs": []
    },
    {
      "cell_type": "markdown",
      "source": [
        "## 🔑 Bước 3: Cấu hình authentication"
      ],
      "metadata": {
        "id": "step3"
      }
    },
    {
      "cell_type": "code",
      "source": [
        "from google.colab import userdata\n",
        "import os\n",
        "\n",
        "# Lấy thông tin từ Colab Secrets hoặc nhập thủ công\n",
        "try:\n",
        "    git_name = userdata.get('GITHUB_USERNAME')\n",
        "    print(f\"✅ Lấy được GitHub username từ secrets: {git_name}\")\n",
        "except:\n",
        "    git_name = input(\"Nhập Git user name (mặc định: Admin Bot): \") or \"Admin Bot\"\n",
        "\n",
        "try:\n",
        "    git_email = userdata.get('GITHUB_EMAIL')\n",
        "    print(f\"✅ Lấy được GitHub email từ secrets: {git_email}\")\n",
        "except:\n",
        "    git_email = input(\"Nhập Git email (mặc định: admin@ssgepub.com): \") or \"admin@ssgepub.com\"\n",
        "\n",
        "# Cấu hình Git\n",
        "!git config --global user.name \"{git_name}\"\n",
        "!git config --global user.email \"{git_email}\"\n",
        "!git config --global --add safe.directory /content/SSGEpub\n",
        "\n",
        "print(f\"✅ Đã cấu hình Git: {git_name} <{git_email}>\")\n",
        "\n",
        "# GitHub Token\n",
        "try:\n",
        "    github_token = userdata.get('GITHUB_TOKEN')\n",
        "    os.environ['GITHUB_TOKEN'] = github_token\n",
        "    print(\"✅ Lấy được GitHub token từ secrets!\")\n",
        "except:\n",
        "    github_token = input(\"Nhập GitHub Personal Access Token (hoặc thêm vào Colab Secrets với key 'GITHUB_TOKEN'): \")\n",
        "    if github_token:\n",
        "        os.environ['GITHUB_TOKEN'] = github_token\n",
        "        print(\"✅ Đã lưu GitHub token!\")\n",
        "    else:\n",
        "        print(\"⚠️ Không có GitHub token. Bạn có thể cấu hình sau trong admin tool.\")\n",
        "\n",
        "print(\"\\n💡 Tip: Để không phải nhập lại, hãy thêm vào Colab Secrets:\")\n",
        "print(\"   - GITHUB_TOKEN: Personal Access Token\")\n",
        "print(\"   - GITHUB_USERNAME: Tên GitHub của bạn\")\n",
        "print(\"   - GITHUB_EMAIL: Email GitHub của bạn\")\n",
        "print(\"   - NGROK_TOKEN: Auth token từ ngrok.com (tùy chọn)\")"
      ],
      "metadata": {
        "id": "setup_auth"
      },
      "execution_count": null,
      "outputs": []
    },
    {
      "cell_type": "markdown",
      "source": [
        "## 🌐 Bước 4: Setup ngrok"
      ],
      "metadata": {
        "id": "step4"
      }
    },
    {
      "cell_type": "code",
      "source": [
        "from pyngrok import ngrok\n",
        "from google.colab import userdata\n",
        "\n",
        "# Lấy ngrok token từ secrets hoặc nhập thủ công\n",
        "try:\n",
        "    ngrok_token = userdata.get('NGROK_TOKEN')\n",
        "    ngrok.set_auth_token(ngrok_token)\n",
        "    print(\"✅ Lấy được ngrok token từ secrets!\")\n",
        "except:\n",
        "    ngrok_token = input(\"Nhập ngrok auth token (lấy từ https://dashboard.ngrok.com/get-started/your-authtoken): \")\n",
        "    if ngrok_token:\n",
        "        ngrok.set_auth_token(ngrok_token)\n",
        "        print(\"✅ Đã cấu hình ngrok!\")\n",
        "    else:\n",
        "        print(\"⚠️ Không có ngrok token. Admin tool sẽ chỉ chạy local.\")\n",
        "\n",
        "print(\"\\n📝 Lưu ý về ngrok:\")\n",
        "print(\"🎯 Ngrok tạo URL public để truy cập Streamlit app từ browser\")\n",
        "print(\"🔗 Ví dụ: https://abc123.ngrok.io -> localhost:8501 trên Colab\")\n",
        "print(\"✨ Nếu chạy local trên máy bạn thì KHÔNG CẦN ngrok!\")"
      ],
      "metadata": {
        "id": "setup_ngrok"
      },
      "execution_count": null,
      "outputs": []
    },
    {
      "cell_type": "markdown",
      "source": [
        "## 🎨 Bước 5: Cấu hình Streamlit"
      ],
      "metadata": {
        "id": "step5"
      }
    },
    {
      "cell_type": "code",
      "source": [
        "# Tạo cấu hình Streamlit\n",
        "import os\n",
        "from pathlib import Path\n",
        "\n",
        "# Tạo thư mục .streamlit\n",
        "streamlit_dir = Path.home() / \".streamlit\"\n",
        "streamlit_dir.mkdir(exist_ok=True)\n",
        "\n",
        "# Tạo file config.toml\n",
        "config_content = \"\"\"\n",
        "[server]\n",
        "headless = true\n",
        "port = 8501\n",
        "enableCORS = false\n",
        "enableXsrfProtection = false\n",
        "\n",
        "[browser]\n",
        "gatherUsageStats = false\n",
        "\"\"\"\n",
        "\n",
        "config_file = streamlit_dir / \"config.toml\"\n",
        "with open(config_file, 'w') as f:\n",
        "    f.write(config_content)\n",
        "\n",
        "print(\"✅ Đã cấu hình Streamlit!\")"
      ],
      "metadata": {
        "id": "setup_streamlit"
      },
      "execution_count": null,
      "outputs": []
    },
    {
      "cell_type": "markdown",
      "source": [
        "## 🚀 Bước 6: Khởi động Admin Tool"
      ],
      "metadata": {
        "id": "step6"
      }
    },
    {
      "cell_type": "code",
      "source": [
        "import subprocess\n",
        "import threading\n",
        "import time\n",
        "from pyngrok import ngrok\n",
        "\n",
        "# Kiểm tra admin tool có tồn tại không\n",
        "admin_tool_path = \"/content/SSGEpub/admin_tool/main.py\"\n",
        "\n",
        "if not os.path.exists(admin_tool_path):\n",
        "    print(f\"❌ Không tìm thấy admin tool tại {admin_tool_path}\")\n",
        "    print(\"Vui lòng kiểm tra repository đã được clone đúng chưa.\")\n",
        "else:\n",
        "    print(\"🚀 Đang khởi động Admin Tool...\")\n",
        "    \n",
        "    # Tạo ngrok tunnel\n",
        "    try:\n",
        "        public_url = ngrok.connect(8501)\n",
        "        print(f\"\\n🌐 Admin Tool URL: {public_url}\")\n",
        "        print(f\"📱 Truy cập URL trên để sử dụng admin tool\")\n",
        "        print(f\"⏰ Tool sẽ khởi động trong vài giây...\\n\")\n",
        "    except Exception as e:\n",
        "        print(f\"⚠️ Không thể tạo ngrok tunnel: {e}\")\n",
        "        print(\"Admin tool sẽ chạy trên localhost:8501\")\n",
        "    \n",
        "    # Khởi động Streamlit\n",
        "    !streamlit run {admin_tool_path} --server.port 8501 --server.headless true"
      ],
      "metadata": {
        "id": "start_admin_tool"
      },
      "execution_count": null,
      "outputs": []
    },
    {
      "cell_type": "markdown",
      "source": [
        "## 🛠️ Troubleshooting\n",
        "\n",
        "Nếu gặp lỗi, hãy thử:\n",
        "\n",
        "1. **Restart Runtime**: Runtime > Restart runtime\n",
        "2. **Kiểm tra repository**: Đảm bảo URL repository đúng\n",
        "3. **Kiểm tra tokens**: GitHub token và ngrok token có đúng không\n",
        "4. **Chạy lại từ đầu**: Chạy lại tất cả các cell\n",
        "\n",
        "### Lệnh hữu ích:"
      ],
      "metadata": {
        "id": "troubleshooting"
      }
    },
    {
      "cell_type": "code",
      "source": [
        "# Kiểm tra trạng thái\n",
        "print(\"📊 Thông tin hệ thống:\")\n",
        "print(f\"📂 Thư mục hiện tại: {os.getcwd()}\")\n",
        "print(f\"📁 Admin tool: {'✅' if os.path.exists('/content/SSGEpub/admin_tool/main.py') else '❌'}\")\n",
        "print(f\"🔑 GitHub token: {'✅' if os.environ.get('GITHUB_TOKEN') else '❌'}\")\n",
        "\n",
        "# Kiểm tra git status\n",
        "if os.path.exists('/content/SSGEpub/.git'):\n",
        "    %cd /content/SSGEpub\n",
        "    !git status --short\n",
        "else:\n",
        "    print(\"❌ Không phải git repository\")"
      ],
      "metadata": {
        "id": "check_status"
      },
      "execution_count": null,
      "outputs": []
    },
    {
      "cell_type": "code",
      "source": [
        "# Restart admin tool nếu cần\n",
        "print(\"🔄 Restart Admin Tool\")\n",
        "\n",
        "# Kill existing processes\n",
        "!pkill -f streamlit\n",
        "\n",
        "# Wait a moment\n",
        "import time\n",
        "time.sleep(2)\n",
        "\n",
        "# Start again\n",
        "%cd /content/SSGEpub\n",
        "!streamlit run admin_tool/main.py --server.port 8501 --server.headless true"
      ],
      "metadata": {
        "id": "restart_tool"
      },
      "execution_count": null,
      "outputs": []
    }
  ]
}
